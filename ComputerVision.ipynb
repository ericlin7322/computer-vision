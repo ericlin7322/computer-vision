{
 "cells": [
  {
   "cell_type": "code",
   "execution_count": 1,
   "metadata": {},
   "outputs": [],
   "source": [
    "import cv2\n",
    "import numpy as np\n",
    "\n",
    "img = cv2.imread(\"1.png\")\n",
    "img2 = cv2.imread(\"2.jpg\")\n",
    "\n",
    "img_width = img.shape[1]\n",
    "img_height = img.shape[0]\n",
    "\n",
    "img2_width = img2.shape[1]\n",
    "img2_height = img2.shape[0]"
   ]
  },
  {
   "cell_type": "markdown",
   "metadata": {},
   "source": [
    "## Origin Image"
   ]
  },
  {
   "cell_type": "code",
   "execution_count": 2,
   "metadata": {},
   "outputs": [],
   "source": [
    "cv2.imshow(\"origin\", img)\n",
    "cv2.waitKey(0)\n",
    "cv2.destroyAllWindows()"
   ]
  },
  {
   "cell_type": "markdown",
   "metadata": {},
   "source": [
    "## Gray Image"
   ]
  },
  {
   "cell_type": "code",
   "execution_count": 3,
   "metadata": {},
   "outputs": [
    {
     "name": "stdout",
     "output_type": "stream",
     "text": [
      "img_gray shape: (225, 225)\n"
     ]
    }
   ],
   "source": [
    "img_gray = np.zeros([img_height, img_width], dtype=np.uint8)\n",
    "\n",
    "for y in range(img_height):\n",
    "    for x in range(img_width):\n",
    "        img_gray[y,x]=img[y,x,2]*0.3+img[y,x,1]*0.59+img[y,x,0]*0.11\n",
    "cv2.imshow(\"111\", img_gray)\n",
    "cv2.waitKey(0)\n",
    "cv2.destroyAllWindows()\n",
    "\n",
    "#### Another\n",
    "\n",
    "img_gray = cv2.cvtColor(img, cv2.COLOR_BGR2GRAY)\n",
    "cv2.imshow(\"img_gray\", img_gray)\n",
    "print(\"img_gray shape: {}\".format(np.shape(img_gray)))\n",
    "cv2.waitKey(0)\n",
    "cv2.destroyAllWindows()"
   ]
  },
  {
   "cell_type": "markdown",
   "metadata": {},
   "source": [
    "## Horizontal Reverse"
   ]
  },
  {
   "cell_type": "code",
   "execution_count": 4,
   "metadata": {},
   "outputs": [],
   "source": [
    "img_hori = np.zeros([img_height, img_width], dtype=np.uint8)\n",
    "\n",
    "for y in range(img_height):\n",
    "    for x in range(img_width):\n",
    "        img_hori[y,img_width-1-x]=img_gray[y,x]\n",
    "\n",
    "cv2.imshow(\"111\", img_hori)\n",
    "cv2.waitKey(0)\n",
    "cv2.destroyAllWindows()"
   ]
  },
  {
   "cell_type": "markdown",
   "metadata": {},
   "source": [
    "## Vertical Reverse"
   ]
  },
  {
   "cell_type": "code",
   "execution_count": 5,
   "metadata": {},
   "outputs": [],
   "source": [
    "img_vert = np.zeros([img_height, img_width], dtype=np.uint8)\n",
    "\n",
    "for y in range(img_height):\n",
    "    for x in range(img_width):\n",
    "        img_vert[img_height-1-y,x]=img_gray[y,x]\n",
    "\n",
    "cv2.imshow(\"111\", img_vert)\n",
    "cv2.waitKey(0)\n",
    "cv2.destroyAllWindows()"
   ]
  },
  {
   "cell_type": "markdown",
   "metadata": {},
   "source": [
    "## Binary Image"
   ]
  },
  {
   "cell_type": "code",
   "execution_count": 6,
   "metadata": {},
   "outputs": [],
   "source": [
    "T = 100\n",
    "\n",
    "bin_img = np.zeros([img_height, img_width], dtype=np.uint8)\n",
    "for y in range(img_height):\n",
    "    for x in range(img_width):\n",
    "        if img_gray[y,x] > T:\n",
    "            bin_img[y,x] = 255\n",
    "        else:\n",
    "            bin_img[y,x] = 0\n",
    "\n",
    "cv2.imshow(\"111\", bin_img)\n",
    "cv2.waitKey(0)\n",
    "cv2.destroyAllWindows()"
   ]
  },
  {
   "cell_type": "markdown",
   "metadata": {},
   "source": [
    "## HSV Image"
   ]
  },
  {
   "cell_type": "code",
   "execution_count": 7,
   "metadata": {},
   "outputs": [],
   "source": [
    "hsv = cv2.cvtColor(img, cv2.COLOR_BGR2HSV)\n",
    "\n",
    "lower_green = np.array([35, 43, 46])\n",
    "upper_green = np.array([77, 255, 255])\n",
    "\n",
    "mask = cv2.inRange(hsv, lower_green, upper_green)\n",
    "res = cv2.bitwise_and(img, img, mask=mask)\n",
    "\n",
    "cv2.imshow(\"HSV\",hsv)\n",
    "cv2.imshow(\"Input\", img)\n",
    "cv2.imshow(\"result\", res)\n",
    "cv2.imshow(\"mask\", mask)\n",
    "cv2.waitKey(0)\n",
    "cv2.destroyAllWindows()"
   ]
  },
  {
   "cell_type": "markdown",
   "metadata": {},
   "source": [
    "## HSV Filt Video"
   ]
  },
  {
   "cell_type": "code",
   "execution_count": 8,
   "metadata": {},
   "outputs": [],
   "source": [
    "cap = cv2.VideoCapture(\"113.mp4\")\n",
    "\n",
    "while cap.isOpened():\n",
    "    ret, frame = cap.read()\n",
    "    if not ret:\n",
    "        print(\"Can't receive frame (stream end?). Exiting ...\")\n",
    "        break\n",
    "    hsv = cv2.cvtColor(frame, cv2.COLOR_BGR2HSV)\n",
    "    width = hsv.shape[1]\n",
    "    height = hsv.shape[0]\n",
    "\n",
    "    lower_green = np.array([26, 43, 46])\n",
    "    upper_green = np.array([70, 255, 255])\n",
    "    \n",
    "    ans = np.zeros([height, width, 3], dtype=np.uint8)\n",
    "    mask = cv2.inRange(hsv, lower_green, upper_green)\n",
    "    \n",
    "    res2 = cv2.bitwise_and(frame, frame, mask=mask)\n",
    "    ans[290:height, 400:600] = res2[290:height, 400:600]\n",
    "\n",
    "    cv2.imshow('frame', ans)\n",
    "\n",
    "    if cv2.waitKey(15) == ord('q'):\n",
    "        break\n",
    "\n",
    "cap.release()\n",
    "cv2.destroyAllWindows()"
   ]
  },
  {
   "cell_type": "markdown",
   "metadata": {},
   "source": [
    "## Resize Enlarge"
   ]
  },
  {
   "cell_type": "code",
   "execution_count": 10,
   "metadata": {},
   "outputs": [],
   "source": [
    "width = 500\n",
    "height = 500\n",
    "\n",
    "img1_resize = cv2.resize(img, (width, height), interpolation=cv2.INTER_AREA)\n",
    "img2_resize = cv2.resize(img2, (width, height), interpolation=cv2.INTER_AREA)\n",
    "\n",
    "cv2.imshow(\"origin\", img2)\n",
    "cv2.imshow(\"resize\", img2_resize)\n",
    "cv2.waitKey()\n",
    "cv2.destroyAllWindows()"
   ]
  },
  {
   "cell_type": "markdown",
   "metadata": {},
   "source": [
    "## Resize Reduce"
   ]
  },
  {
   "cell_type": "code",
   "execution_count": 11,
   "metadata": {},
   "outputs": [],
   "source": [
    "width = 250\n",
    "height = 250\n",
    "\n",
    "img1_resize = cv2.resize(img, (width, height), interpolation=cv2.INTER_AREA)\n",
    "img2_resize = cv2.resize(img2, (width, height), interpolation=cv2.INTER_AREA)\n",
    "\n",
    "cv2.imshow(\"origin\", img2)\n",
    "cv2.imshow(\"resize\", img2_resize)\n",
    "cv2.waitKey()\n",
    "cv2.destroyAllWindows()"
   ]
  },
  {
   "cell_type": "markdown",
   "metadata": {},
   "source": [
    "## Merge"
   ]
  },
  {
   "cell_type": "code",
   "execution_count": 12,
   "metadata": {},
   "outputs": [],
   "source": [
    "img_merge = np.array(0.5*img1_resize+0.5*img2_resize, dtype=np.uint8)\n",
    "\n",
    "img_stack = np.hstack([img1_resize,img2_resize,img_merge])\n",
    "cv2.imshow(\"all\", img_stack)\n",
    "cv2.waitKey()\n",
    "cv2.destroyAllWindows()"
   ]
  },
  {
   "cell_type": "markdown",
   "metadata": {},
   "source": [
    "## Rotate"
   ]
  },
  {
   "cell_type": "code",
   "execution_count": 13,
   "metadata": {},
   "outputs": [],
   "source": [
    "img_rotate = cv2.rotate(img2, cv2.ROTATE_90_CLOCKWISE)\n",
    "\n",
    "cv2.imshow(\"origin\", img2)\n",
    "cv2.imshow(\"rotate\", img_rotate)\n",
    "cv2.waitKey()\n",
    "cv2.destroyAllWindows()"
   ]
  },
  {
   "cell_type": "markdown",
   "metadata": {},
   "source": [
    "## Blur"
   ]
  },
  {
   "cell_type": "code",
   "execution_count": 14,
   "metadata": {},
   "outputs": [],
   "source": [
    "import random\n",
    "\n",
    "img_temp = img2_resize\n",
    "\n",
    "for i in range(250):\n",
    "    x = random.randint(0,249)\n",
    "    y = random.randint(0,249)\n",
    "    img_temp[y,x,:] = 0\n",
    "    x = random.randint(0,249)\n",
    "    y = random.randint(0,249)\n",
    "    img_temp[y,x,:] = 255\n",
    "\n",
    "img2_blur3 = cv2.blur(img_temp, (3,3))\n",
    "img2_blur5 = cv2.blur(img_temp, (5,5))\n",
    "img2_blur11 = cv2.blur(img_temp, (11,11))\n",
    "\n",
    "cv2.imshow(\"origin\", img_temp)\n",
    "cv2.imshow(\"blur3\", img2_blur3)\n",
    "cv2.imshow(\"blur5\", img2_blur5)\n",
    "cv2.imshow(\"blur11\", img2_blur11)\n",
    "cv2.waitKey()\n",
    "cv2.destroyAllWindows()\n"
   ]
  },
  {
   "cell_type": "markdown",
   "metadata": {},
   "source": [
    "## Median Blur"
   ]
  },
  {
   "cell_type": "code",
   "execution_count": 15,
   "metadata": {},
   "outputs": [],
   "source": [
    "img2_medianBlur3 = cv2.medianBlur(img_temp, 3)\n",
    "img2_medianBlur5 = cv2.medianBlur(img_temp, 5)\n",
    "img2_medianBlur11 = cv2.medianBlur(img_temp, 11)\n",
    "\n",
    "cv2.imshow(\"origin\", img_temp)\n",
    "cv2.imshow(\"medianBlur3\", img2_medianBlur3)\n",
    "cv2.imshow(\"medianBlur5\", img2_medianBlur5)\n",
    "cv2.imshow(\"medianBlur11\", img2_medianBlur11)\n",
    "cv2.waitKey()\n",
    "cv2.destroyAllWindows()"
   ]
  },
  {
   "cell_type": "markdown",
   "metadata": {},
   "source": [
    "## Canny Filter"
   ]
  },
  {
   "cell_type": "code",
   "execution_count": 16,
   "metadata": {},
   "outputs": [],
   "source": [
    "img2_edges = cv2.Canny(img2,250,250)\n",
    "\n",
    "cv2.imshow(\"origin\", img2)\n",
    "cv2.imshow(\"canny\", img2_edges)\n",
    "cv2.waitKey()\n",
    "cv2.destroyAllWindows()"
   ]
  },
  {
   "cell_type": "markdown",
   "metadata": {},
   "source": [
    "## Hough Line"
   ]
  },
  {
   "cell_type": "code",
   "execution_count": 17,
   "metadata": {},
   "outputs": [],
   "source": []
  }
 ],
 "metadata": {
  "interpreter": {
   "hash": "e03c9e3864548aac8b4729dc5fc4af7acb6cf1412cf7a15e13e0e3309a4a890f"
  },
  "kernelspec": {
   "display_name": "Python 3.10.4 ('venv')",
   "language": "python",
   "name": "python3"
  },
  "language_info": {
   "codemirror_mode": {
    "name": "ipython",
    "version": 3
   },
   "file_extension": ".py",
   "mimetype": "text/x-python",
   "name": "python",
   "nbconvert_exporter": "python",
   "pygments_lexer": "ipython3",
   "version": "3.10.4"
  },
  "orig_nbformat": 4
 },
 "nbformat": 4,
 "nbformat_minor": 2
}
